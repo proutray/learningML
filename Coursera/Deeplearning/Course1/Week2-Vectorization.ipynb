{
 "cells": [
  {
   "cell_type": "code",
   "execution_count": 1,
   "metadata": {},
   "outputs": [
    {
     "name": "stdout",
     "output_type": "stream",
     "text": [
      "c = 250220.053616\n",
      "Vectorized Version's Time: 39.8728847504ms\n",
      "c = 250220.053616\n",
      "For-loop Version's Time: 584.136962891ms\n"
     ]
    }
   ],
   "source": [
    "import numpy as np\n",
    "import time\n",
    "a = np.random.rand(1000000)\n",
    "b = np.random.rand(1000000)\n",
    "\n",
    "tic = time.time()\n",
    "c= np.dot(a,b)\n",
    "toc = time.time()\n",
    "print (\"c = \" + str(c))\n",
    "print (\"Vectorized Version's Time: \" + str(1000*(toc-tic)) + \"ms\")\n",
    "\n",
    "c = 0\n",
    "tic = time.time()\n",
    "for i in range(1000000):\n",
    "    c += a[i]*b[i]\n",
    "toc = time.time()\n",
    "\n",
    "print (\"c = \" + str(c))\n",
    "print (\"For-loop Version's Time: \" + str(1000*(toc-tic)) + \"ms\")\n"
   ]
  },
  {
   "cell_type": "raw",
   "metadata": {},
   "source": [
    "                   Apples     Beef      Eggs    Potatoes\n",
    "Carbohydrates        56.0      0.0       4.4        68.0\n",
    "Protein               1.2    104.0      52.0         8.0\n",
    "Fat                   1.8    135.0      99.0         0.9"
   ]
  },
  {
   "cell_type": "code",
   "execution_count": 2,
   "metadata": {},
   "outputs": [
    {
     "name": "stdout",
     "output_type": "stream",
     "text": [
      "[[  56.     0.     4.4   68. ]\n",
      " [   1.2  104.    52.     8. ]\n",
      " [   1.8  135.    99.     0.9]]\n",
      "\n",
      "\n",
      "Total calories in 100 gms of Apples,Beef,Eggs,Potatoes:\n",
      "\n",
      "[  59.   239.   155.4   76.9]\n",
      "\n",
      "\n",
      " Percentage of carbs/protein/fat in 100gm of Apples, Beef, Eggs, Protein:\n",
      "\n",
      "[[ 94.91525424   0.           2.83140283  88.42652796]\n",
      " [  2.03389831  43.51464435  33.46203346  10.40312094]\n",
      " [  3.05084746  56.48535565  63.70656371   1.17035111]]\n"
     ]
    }
   ],
   "source": [
    "A = np.array([[56, 0, 4.4, 68],[1.2, 104, 52, 8],[1.8, 135, 99, 0.9]])\n",
    "print(A)\n",
    "\n",
    "cal = A.sum(axis=0)\n",
    "print (\"\\n\\nTotal calories in 100 gms of Apples,Beef,Eggs,Potatoes:\\n\")\n",
    "print cal\n",
    "\n",
    "cal = cal.reshape(1,4)\n",
    "assert(cal.shape == (1,4))\n",
    "\n",
    "percent = 100*A/cal\n",
    "print(\"\\n\\n Percentage of carbs/protein/fat in 100gm of Apples, Beef, Eggs, Protein:\\n\")\n",
    "print(percent)\n"
   ]
  },
  {
   "cell_type": "code",
   "execution_count": 6,
   "metadata": {},
   "outputs": [
    {
     "name": "stdout",
     "output_type": "stream",
     "text": [
      "[[-0.011952   -0.0042856   0.01180021]\n",
      " [ 0.08949078  0.00397039 -0.05085906]\n",
      " [-0.17697978 -0.12421698 -0.07965918]]\n"
     ]
    }
   ],
   "source": [
    "a = np.random.randn(3, 3)\n",
    "b = np.random.randn(3, 1)\n",
    "c = a*b\n",
    "print c"
   ]
  },
  {
   "cell_type": "code",
   "execution_count": 1,
   "metadata": {
    "collapsed": true
   },
   "outputs": [],
   "source": [
    "import numpy as np\n",
    "A = np.random.randn(4,3)\n",
    "B = np.sum(A, axis = 1, keepdims = True)"
   ]
  },
  {
   "cell_type": "code",
   "execution_count": 2,
   "metadata": {},
   "outputs": [
    {
     "name": "stdout",
     "output_type": "stream",
     "text": [
      "(4, 1)\n"
     ]
    }
   ],
   "source": [
    "print (B.shape)"
   ]
  },
  {
   "cell_type": "code",
   "execution_count": 4,
   "metadata": {},
   "outputs": [
    {
     "name": "stdout",
     "output_type": "stream",
     "text": [
      "1\n"
     ]
    }
   ],
   "source": [
    "print(B.shape[1])"
   ]
  },
  {
   "cell_type": "code",
   "execution_count": null,
   "metadata": {
    "collapsed": true
   },
   "outputs": [],
   "source": []
  }
 ],
 "metadata": {
  "kernelspec": {
   "display_name": "Python 2",
   "language": "python",
   "name": "python2"
  },
  "language_info": {
   "codemirror_mode": {
    "name": "ipython",
    "version": 2
   },
   "file_extension": ".py",
   "mimetype": "text/x-python",
   "name": "python",
   "nbconvert_exporter": "python",
   "pygments_lexer": "ipython2",
   "version": "2.7.13"
  }
 },
 "nbformat": 4,
 "nbformat_minor": 2
}
